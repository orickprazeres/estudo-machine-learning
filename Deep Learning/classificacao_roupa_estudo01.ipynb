{
  "nbformat": 4,
  "nbformat_minor": 0,
  "metadata": {
    "colab": {
      "provenance": [],
      "collapsed_sections": []
    },
    "kernelspec": {
      "name": "python3",
      "display_name": "Python 3"
    },
    "language_info": {
      "name": "python"
    }
  },
  "cells": [
    {
      "cell_type": "markdown",
      "source": [
        "# Deep Learning"
      ],
      "metadata": {
        "id": "j_f7RoUWCD3-"
      }
    },
    {
      "cell_type": "code",
      "source": [
        "import tensorflow\n",
        "import matplotlib.pyplot as plt\n",
        "import numpy as np\n"
      ],
      "metadata": {
        "id": "qQbN_v1NEdMZ"
      },
      "execution_count": 26,
      "outputs": []
    },
    {
      "cell_type": "code",
      "source": [
        "from tensorflow import keras\n",
        "dataset = keras.datasets.fashion_mnist\n",
        "((imagens_treino, identificacoes_treino), (imagens_teste, identificacoes_teste)) = dataset.load_data()"
      ],
      "metadata": {
        "id": "INOap89sCH97",
        "colab": {
          "base_uri": "https://localhost:8080/"
        },
        "outputId": "f1bba09e-b5bb-48e1-d0fd-7ee222719753"
      },
      "execution_count": 2,
      "outputs": [
        {
          "output_type": "stream",
          "name": "stdout",
          "text": [
            "Downloading data from https://storage.googleapis.com/tensorflow/tf-keras-datasets/train-labels-idx1-ubyte.gz\n",
            "29515/29515 [==============================] - 0s 0us/step\n",
            "Downloading data from https://storage.googleapis.com/tensorflow/tf-keras-datasets/train-images-idx3-ubyte.gz\n",
            "26421880/26421880 [==============================] - 0s 0us/step\n",
            "Downloading data from https://storage.googleapis.com/tensorflow/tf-keras-datasets/t10k-labels-idx1-ubyte.gz\n",
            "5148/5148 [==============================] - 0s 0us/step\n",
            "Downloading data from https://storage.googleapis.com/tensorflow/tf-keras-datasets/t10k-images-idx3-ubyte.gz\n",
            "4422102/4422102 [==============================] - 0s 0us/step\n"
          ]
        }
      ]
    },
    {
      "cell_type": "markdown",
      "source": [
        "## Explorando os Dados"
      ],
      "metadata": {
        "id": "nvpKkuGOCILA"
      }
    },
    {
      "cell_type": "code",
      "source": [
        "imagens_treino.shape"
      ],
      "metadata": {
        "colab": {
          "base_uri": "https://localhost:8080/"
        },
        "id": "tAsUdTcDCSUb",
        "outputId": "13b42ea0-7134-4738-9ff8-211d8d1e0bcb"
      },
      "execution_count": 3,
      "outputs": [
        {
          "output_type": "execute_result",
          "data": {
            "text/plain": [
              "(60000, 28, 28)"
            ]
          },
          "metadata": {},
          "execution_count": 3
        }
      ]
    },
    {
      "cell_type": "code",
      "source": [
        "imagens_teste.shape"
      ],
      "metadata": {
        "colab": {
          "base_uri": "https://localhost:8080/"
        },
        "id": "wzasX89oDoYf",
        "outputId": "b704af0a-3acf-4ad1-f571-a941118d268e"
      },
      "execution_count": 4,
      "outputs": [
        {
          "output_type": "execute_result",
          "data": {
            "text/plain": [
              "(10000, 28, 28)"
            ]
          },
          "metadata": {},
          "execution_count": 4
        }
      ]
    },
    {
      "cell_type": "code",
      "source": [
        "plt.imshow(imagens_treino[0])"
      ],
      "metadata": {
        "colab": {
          "base_uri": "https://localhost:8080/",
          "height": 282
        },
        "id": "6ZneMZltEEx-",
        "outputId": "5c461095-5afa-4410-c842-50891b2cef47"
      },
      "execution_count": 5,
      "outputs": [
        {
          "output_type": "execute_result",
          "data": {
            "text/plain": [
              "<matplotlib.image.AxesImage at 0x7f5352e45d90>"
            ]
          },
          "metadata": {},
          "execution_count": 5
        },
        {
          "output_type": "display_data",
          "data": {
            "text/plain": [
              "<Figure size 432x288 with 1 Axes>"
            ],
            "image/png": "[encoded data removed]"
          },
          "metadata": {
            "needs_background": "light"
          }
        }
      ]
    },
    {
      "cell_type": "code",
      "source": [
        "plt.imshow(imagens_treino[0])\n",
        "plt.title(identificacoes_treino[0])"
      ],
      "metadata": {
        "colab": {
          "base_uri": "https://localhost:8080/",
          "height": 298
        },
        "id": "zKZ581aMEsIl",
        "outputId": "3ff46b9c-f284-4f73-b682-6e861ef78908"
      },
      "execution_count": 6,
      "outputs": [
        {
          "output_type": "execute_result",
          "data": {
            "text/plain": [
              "Text(0.5, 1.0, '9')"
            ]
          },
          "metadata": {},
          "execution_count": 6
        },
        {
          "output_type": "display_data",
          "data": {
            "text/plain": [
              "<Figure size 432x288 with 1 Axes>"
            ],
            "image/png": "[encoded data removed]"
          },
          "metadata": {
            "needs_background": "light"
          }
        }
      ]
    },
    {
      "cell_type": "code",
      "source": [
        "identificacoes_treino"
      ],
      "metadata": {
        "colab": {
          "base_uri": "https://localhost:8080/"
        },
        "id": "sjXvBFjMF5RE",
        "outputId": "54178e14-850b-46cc-e1f8-d649efdcbdd5"
      },
      "execution_count": 7,
      "outputs": [
        {
          "output_type": "execute_result",
          "data": {
            "text/plain": [
              "array([9, 0, 0, ..., 3, 0, 5], dtype=uint8)"
            ]
          },
          "metadata": {},
          "execution_count": 7
        }
      ]
    },
    {
      "cell_type": "code",
      "source": [
        "identificacoes_treino.min()"
      ],
      "metadata": {
        "colab": {
          "base_uri": "https://localhost:8080/"
        },
        "id": "D-BFwxBxGFuT",
        "outputId": "8c5ade56-3257-40b5-97e8-66b0108361a8"
      },
      "execution_count": 8,
      "outputs": [
        {
          "output_type": "execute_result",
          "data": {
            "text/plain": [
              "0"
            ]
          },
          "metadata": {},
          "execution_count": 8
        }
      ]
    },
    {
      "cell_type": "code",
      "source": [
        "identificacoes_treino.max()"
      ],
      "metadata": {
        "colab": {
          "base_uri": "https://localhost:8080/"
        },
        "id": "rZ68Ddr1GBLL",
        "outputId": "272336e0-7fba-465a-9670-cd58e733fc05"
      },
      "execution_count": 9,
      "outputs": [
        {
          "output_type": "execute_result",
          "data": {
            "text/plain": [
              "9"
            ]
          },
          "metadata": {},
          "execution_count": 9
        }
      ]
    },
    {
      "cell_type": "code",
      "source": [
        "total_de_classificacoes = 10\n",
        "\n",
        "for imagem in range(10):\n",
        "  plt.subplot(2,5, imagem+1)\n",
        "  plt.imshow(imagens_treino[imagem])\n",
        "  plt.title(identificacoes_treino[imagem])"
      ],
      "metadata": {
        "colab": {
          "base_uri": "https://localhost:8080/",
          "height": 240
        },
        "id": "O0sUy8s2GHhr",
        "outputId": "fe1da771-d8a4-4e22-fc47-42ad36f0a984"
      },
      "execution_count": 10,
      "outputs": [
        {
          "output_type": "display_data",
          "data": {
            "text/plain": [
              "<Figure size 432x288 with 10 Axes>"
            ],
            "image/png": "[encoded data removed]"
          },
          "metadata": {
            "needs_background": "light"
          }
        }
      ]
    },
    {
      "cell_type": "markdown",
      "source": [
        "Cada exemplo de treinamento e teste é atribuído a um dos seguintes rótulos:\n",
        "\n",
        "| Label\t| Description|\n",
        "| -------------  | --- |\n",
        "|0|\tT-shirt/top|\n",
        "|1|\tTrouser|\n",
        "|2|\tPullover|\n",
        "|3|\tDress|\n",
        "|4|\tCoat|\n",
        "|5|\tSandal|\n",
        "|6|\tShirt|\n",
        "|7|\tSneaker|\n",
        "|8|\tBag|\n",
        "|9|\tAnkle boot|\n",
        "\n"
      ],
      "metadata": {
        "id": "uP3e4hG3HZVK"
      }
    },
    {
      "cell_type": "code",
      "source": [
        "nome_classificacoes = ['Camiseta', 'Calça', 'Suéter',\n",
        "                       'Vestido', 'Casaco', 'Sandália',\n",
        "                       'Camisa', 'Tênis', 'Bolsa', 'Bota']\n",
        "\n",
        "for imagem in range(10):\n",
        "  plt.subplot(2,5, imagem+1)\n",
        "  plt.imshow(imagens_treino[imagem])\n",
        "  plt.title(nome_classificacoes[identificacoes_treino[imagem]])"
      ],
      "metadata": {
        "colab": {
          "base_uri": "https://localhost:8080/",
          "height": 240
        },
        "id": "eXx_96zCGrG7",
        "outputId": "eddab689-439c-4fd6-9543-4c7be499dbb6"
      },
      "execution_count": 11,
      "outputs": [
        {
          "output_type": "display_data",
          "data": {
            "text/plain": [
              "<Figure size 432x288 with 10 Axes>"
            ],
            "image/png": "[encoded data removed]"
          },
          "metadata": {
            "needs_background": "light"
          }
        }
      ]
    },
    {
      "cell_type": "code",
      "source": [
        "plt.imshow(imagens_treino[0])\n",
        "plt.colorbar()"
      ],
      "metadata": {
        "colab": {
          "base_uri": "https://localhost:8080/",
          "height": 282
        },
        "id": "H3QYoneyonlf",
        "outputId": "54da2777-0363-4a36-e50e-e745c74845a5"
      },
      "execution_count": 12,
      "outputs": [
        {
          "output_type": "execute_result",
          "data": {
            "text/plain": [
              "<matplotlib.colorbar.Colorbar at 0x7f5352275710>"
            ]
          },
          "metadata": {},
          "execution_count": 12
        },
        {
          "output_type": "display_data",
          "data": {
            "text/plain": [
              "<Figure size 432x288 with 2 Axes>"
            ],
            "image/png": "[encoded data removed]"
          },
          "metadata": {
            "needs_background": "light"
          }
        }
      ]
    },
    {
      "cell_type": "markdown",
      "source": [
        "## Criando o Primeiro Modelo"
      ],
      "metadata": {
        "id": "_I4dgxmyLU6c"
      }
    },
    {
      "cell_type": "code",
      "source": [
        "modelo = keras.Sequential([\n",
        "    keras.layers.Flatten(input_shape= (28,28)), # dimensoes das imagens de acordo com o dataset\n",
        "    keras.layers.Dense(256, activation= 'relu'), # 256 -> numero aleatorio multiplo de 2\n",
        "    keras.layers.Dense(10, activation= 'softmax') # 10 -> ao numero de camadas\n",
        "])\n",
        "\n",
        "modelo.compile(\n",
        "    optimizer= 'adam',\n",
        "    loss= 'sparse_categorical_crossentropy',\n",
        "    )\n",
        "\n",
        "modelo.fit(imagens_treino, identificacoes_treino)"
      ],
      "metadata": {
        "colab": {
          "base_uri": "https://localhost:8080/"
        },
        "id": "SZSHVV9hJdCU",
        "outputId": "4b0ea652-c8e1-42b6-8906-a385e55ea395"
      },
      "execution_count": 22,
      "outputs": [
        {
          "output_type": "stream",
          "name": "stdout",
          "text": [
            "1875/1875 [==============================] - 6s 3ms/step - loss: 3.5813\n"
          ]
        },
        {
          "output_type": "execute_result",
          "data": {
            "text/plain": [
              "<keras.callbacks.History at 0x7f5348a5e250>"
            ]
          },
          "metadata": {},
          "execution_count": 22
        }
      ]
    },
    {
      "cell_type": "code",
      "source": [
        "modelo = keras.Sequential([\n",
        "    keras.layers.Flatten(input_shape= (28,28)), # dimensoes das imagens de acordo com o dataset\n",
        "    keras.layers.Dense(256, activation= 'relu'), # 256 -> numero aleatorio multiplo de 2\n",
        "    keras.layers.Dense(10, activation= 'softmax') # 10 -> ao numero de camadas\n",
        "])\n",
        "\n",
        "modelo.compile(\n",
        "    optimizer= 'adam',\n",
        "    loss= 'sparse_categorical_crossentropy',\n",
        "    )\n",
        "\n",
        "modelo.fit(imagens_treino, identificacoes_treino,\n",
        "           # devido a versao do tensorflow ele verificaria somente 1875\n",
        "           # para aumentar a quantidade de treino usa-se o parametro abaixo:\n",
        "           steps_per_epoch= 60000\n",
        "           )"
      ],
      "metadata": {
        "colab": {
          "base_uri": "https://localhost:8080/"
        },
        "id": "CZ8s8tBfJPdG",
        "outputId": "41bf3ecf-1b31-4d5d-f730-b335fe175592"
      },
      "execution_count": 13,
      "outputs": [
        {
          "output_type": "stream",
          "name": "stdout",
          "text": [
            "60000/60000 [==============================] - 157s 3ms/step - loss: 2.7277\n"
          ]
        },
        {
          "output_type": "execute_result",
          "data": {
            "text/plain": [
              "<keras.callbacks.History at 0x7f53524c9450>"
            ]
          },
          "metadata": {},
          "execution_count": 13
        }
      ]
    },
    {
      "cell_type": "code",
      "source": [
        "# realizando normalizacao\n",
        "'''\n",
        "imagens_treino = imagens_treino/float(255)\n",
        "'''"
      ],
      "metadata": {
        "id": "VMSvmL_ZqoM_",
        "colab": {
          "base_uri": "https://localhost:8080/",
          "height": 35
        },
        "outputId": "8863190b-a8a4-48f2-e52e-8c8077593bae"
      },
      "execution_count": 14,
      "outputs": [
        {
          "output_type": "execute_result",
          "data": {
            "text/plain": [
              "'\\nimagens_treino = imagens_treino/float(255)\\n'"
            ],
            "application/vnd.google.colaboratory.intrinsic+json": {
              "type": "string"
            }
          },
          "metadata": {},
          "execution_count": 14
        }
      ]
    },
    {
      "cell_type": "code",
      "source": [
        "modelo = keras.Sequential([\n",
        "    keras.layers.Flatten(input_shape= (28,28)), # dimensoes das imagens de acordo com o dataset\n",
        "    keras.layers.Dense(256, activation= 'relu'), # 256 -> numero aleatorio multiplo de 2\n",
        "    keras.layers.Dense(10, activation= 'softmax') # 10 -> ao numero de camadas\n",
        "])\n",
        "\n",
        "modelo.compile(\n",
        "    optimizer= 'adam',\n",
        "    loss= 'sparse_categorical_crossentropy',\n",
        "    )\n",
        "\n",
        "modelo.fit(imagens_treino, identificacoes_treino,\n",
        "           # devido a versao do tensorflow ele verificaria somente 1875\n",
        "           # para aumentar a quantidade de treino usa-se o parametro abaixo:\n",
        "           steps_per_epoch= 60000\n",
        "           )\n"
      ],
      "metadata": {
        "colab": {
          "base_uri": "https://localhost:8080/"
        },
        "id": "JYqXlabckVvs",
        "outputId": "0964d402-1dbc-49ae-dd22-c5c7460303ac"
      },
      "execution_count": 21,
      "outputs": [
        {
          "output_type": "stream",
          "name": "stdout",
          "text": [
            "60000/60000 [==============================] - 136s 2ms/step - loss: 2.5509\n"
          ]
        },
        {
          "output_type": "execute_result",
          "data": {
            "text/plain": [
              "<keras.callbacks.History at 0x7f5348b83d50>"
            ]
          },
          "metadata": {},
          "execution_count": 21
        }
      ]
    },
    {
      "cell_type": "markdown",
      "source": [
        "\n",
        "Obs:\n",
        " > com a normalização, o processo ficou mais rápido, porém obtivemos um maior número de perdas\n",
        "\n"
      ],
      "metadata": {
        "id": "Uzna-JvHsCM2"
      }
    },
    {
      "cell_type": "code",
      "source": [
        "modelo = keras.Sequential([\n",
        "    keras.layers.Flatten(input_shape= (28,28)), \n",
        "    keras.layers.Dense(256, activation= 'relu'), \n",
        "    # adionamos mais uma camada de densidade para testar a influência no tempo e nas perdas\n",
        "    keras.layers.Dense(128, activation= 'relu'),\n",
        "    \n",
        "    keras.layers.Dense(10, activation= 'softmax')\n",
        "])\n",
        "\n",
        "modelo.compile(\n",
        "    optimizer= 'adam',\n",
        "    loss= 'sparse_categorical_crossentropy',\n",
        "    )\n",
        "\n",
        "modelo.fit(imagens_treino, identificacoes_treino,\n",
        "           # devido a versao do tensorflow ele verificaria somente 1875\n",
        "           # para aumentar a quantidade de treino usa-se o parametro abaixo:\n",
        "           steps_per_epoch= 60000\n",
        "           )"
      ],
      "metadata": {
        "colab": {
          "base_uri": "https://localhost:8080/"
        },
        "id": "aHsu74Rdo8mq",
        "outputId": "2c405794-e43e-4ec4-8387-2f35d0e023cc"
      },
      "execution_count": 16,
      "outputs": [
        {
          "output_type": "stream",
          "name": "stdout",
          "text": [
            "60000/60000 [==============================] - 158s 3ms/step - loss: 1.8334\n"
          ]
        },
        {
          "output_type": "execute_result",
          "data": {
            "text/plain": [
              "<keras.callbacks.History at 0x7f5352596e90>"
            ]
          },
          "metadata": {},
          "execution_count": 16
        }
      ]
    },
    {
      "cell_type": "markdown",
      "source": [
        "\n",
        "Obs:\n",
        " > com a camada de densidade extra, o processo ficou mais lento e aumentou a quantidade de dados perdidos comparados com o primeiro exemplo, mas ainda tivemos menos perdas que o anterior\n",
        "\n"
      ],
      "metadata": {
        "id": "qIl0HH3xs7uK"
      }
    },
    {
      "cell_type": "code",
      "source": [
        "modelo = keras.Sequential([\n",
        "    keras.layers.Flatten(input_shape= (28,28)), \n",
        "    # modificando o numero da Densidade de 256 -> 128\n",
        "    keras.layers.Dense(128, activation= 'relu'),   \n",
        "    keras.layers.Dense(10, activation= 'softmax')\n",
        "])\n",
        "\n",
        "modelo.compile(\n",
        "    optimizer= 'adam',\n",
        "    loss= 'sparse_categorical_crossentropy',\n",
        "    )\n",
        "\n",
        "modelo.fit(imagens_treino, identificacoes_treino,\n",
        "           # devido a versao do tensorflow ele verificaria somente 1875\n",
        "           # para aumentar a quantidade de treino usa-se o parametro abaixo:\n",
        "           steps_per_epoch= 60000\n",
        "           )"
      ],
      "metadata": {
        "colab": {
          "base_uri": "https://localhost:8080/"
        },
        "id": "kanKrzKBr6-e",
        "outputId": "719e8542-6b78-4b51-92d5-f2a29f414d0a"
      },
      "execution_count": 17,
      "outputs": [
        {
          "output_type": "stream",
          "name": "stdout",
          "text": [
            "60000/60000 [==============================] - 117s 2ms/step - loss: 2.4591\n"
          ]
        },
        {
          "output_type": "execute_result",
          "data": {
            "text/plain": [
              "<keras.callbacks.History at 0x7f535271e950>"
            ]
          },
          "metadata": {},
          "execution_count": 17
        }
      ]
    },
    {
      "cell_type": "code",
      "source": [
        "modelo = keras.Sequential([\n",
        "    keras.layers.Flatten(input_shape= (28,28)), \n",
        "    # modificando o numero da Densidade de 256 -> 64\n",
        "    keras.layers.Dense(64, activation= 'relu'),   \n",
        "    keras.layers.Dense(10, activation= 'softmax')\n",
        "])\n",
        "\n",
        "modelo.compile(\n",
        "    optimizer= 'adam',\n",
        "    loss= 'sparse_categorical_crossentropy',\n",
        "    )\n",
        "\n",
        "modelo.fit(imagens_treino, identificacoes_treino,\n",
        "           # devido a versao do tensorflow ele verificaria somente 1875\n",
        "           # para aumentar a quantidade de treino usa-se o parametro abaixo:\n",
        "           steps_per_epoch= 60000\n",
        "           )"
      ],
      "metadata": {
        "colab": {
          "base_uri": "https://localhost:8080/"
        },
        "id": "FhKmyOV9uGNS",
        "outputId": "15048f45-35fe-4940-cbd1-44dc86ed9298"
      },
      "execution_count": 18,
      "outputs": [
        {
          "output_type": "stream",
          "name": "stdout",
          "text": [
            "60000/60000 [==============================] - 108s 2ms/step - loss: 2.1672\n"
          ]
        },
        {
          "output_type": "execute_result",
          "data": {
            "text/plain": [
              "<keras.callbacks.History at 0x7f5352882d10>"
            ]
          },
          "metadata": {},
          "execution_count": 18
        }
      ]
    },
    {
      "cell_type": "code",
      "source": [
        "modelo = keras.Sequential([\n",
        "    keras.layers.Flatten(input_shape= (28,28)), \n",
        "    keras.layers.Dense(256, activation= 'relu'), \n",
        "    keras.layers.Dense(10, activation= 'softmax') \n",
        "])\n",
        "\n",
        "modelo.compile(\n",
        "    optimizer= 'adam',\n",
        "    loss= 'sparse_categorical_crossentropy',\n",
        "    )\n",
        "\n",
        "modelo.fit(imagens_treino, identificacoes_treino,\n",
        "           # devido a versao do tensorflow ele verificaria somente 1875\n",
        "           # para aumentar a quantidade de treino usa-se o parametro abaixo:\n",
        "           steps_per_epoch= 60000,\n",
        "           epochs = 5 # realizar o treino 5 vezes\n",
        "           )"
      ],
      "metadata": {
        "colab": {
          "base_uri": "https://localhost:8080/"
        },
        "id": "EmokC4CyuX2Z",
        "outputId": "d3390571-73fe-4d41-e2aa-a8f26a8aaa17"
      },
      "execution_count": 19,
      "outputs": [
        {
          "output_type": "stream",
          "name": "stdout",
          "text": [
            "Epoch 1/5\n",
            "60000/60000 [==============================] - 145s 2ms/step - loss: 2.4260\n",
            "Epoch 2/5\n",
            "60000/60000 [==============================] - 154s 3ms/step - loss: 1.7078\n",
            "Epoch 3/5\n",
            "60000/60000 [==============================] - 151s 3ms/step - loss: 1.6803\n",
            "Epoch 4/5\n",
            "60000/60000 [==============================] - 148s 2ms/step - loss: 1.7768\n",
            "Epoch 5/5\n",
            "60000/60000 [==============================] - 138s 2ms/step - loss: 1.8124\n"
          ]
        },
        {
          "output_type": "execute_result",
          "data": {
            "text/plain": [
              "<keras.callbacks.History at 0x7f5352827b10>"
            ]
          },
          "metadata": {},
          "execution_count": 19
        }
      ]
    },
    {
      "cell_type": "code",
      "source": [
        "modelo = keras.Sequential([\n",
        "    keras.layers.Flatten(input_shape= (28,28)), \n",
        "    keras.layers.Dense(256, activation= 'relu'), \n",
        "    keras.layers.Dense(10, activation= 'softmax') \n",
        "])\n",
        "\n",
        "modelo.compile(\n",
        "    optimizer= 'adam',\n",
        "    loss= 'sparse_categorical_crossentropy',\n",
        "    metrics = ['accuracy']\n",
        "    )\n",
        "\n",
        "modelo.fit(imagens_treino, identificacoes_treino,\n",
        "           # devido a versao do tensorflow ele verificaria somente 1875\n",
        "           # para aumentar a quantidade de treino usa-se o parametro abaixo:\n",
        "           steps_per_epoch= 60000,\n",
        "           epochs = 5 # realizar o treino 5 vezes\n",
        "           )"
      ],
      "metadata": {
        "colab": {
          "base_uri": "https://localhost:8080/"
        },
        "id": "A7NFcRtjvjyl",
        "outputId": "2b9eb583-39f1-4620-fcf6-8530d189f9be"
      },
      "execution_count": 37,
      "outputs": [
        {
          "output_type": "stream",
          "name": "stdout",
          "text": [
            "Epoch 1/5\n",
            "60000/60000 [==============================] - 156s 3ms/step - loss: 2.3617 - accuracy: 0.4369\n",
            "Epoch 2/5\n",
            "60000/60000 [==============================] - 149s 2ms/step - loss: 1.6629 - accuracy: 0.4165\n",
            "Epoch 3/5\n",
            "60000/60000 [==============================] - 150s 2ms/step - loss: 1.6309 - accuracy: 0.4092\n",
            "Epoch 4/5\n",
            "60000/60000 [==============================] - 152s 3ms/step - loss: 1.6607 - accuracy: 0.4058\n",
            "Epoch 5/5\n",
            "60000/60000 [==============================] - 157s 3ms/step - loss: 1.6328 - accuracy: 0.4169\n"
          ]
        },
        {
          "output_type": "execute_result",
          "data": {
            "text/plain": [
              "<keras.callbacks.History at 0x7f53459a6210>"
            ]
          },
          "metadata": {},
          "execution_count": 37
        }
      ]
    },
    {
      "cell_type": "code",
      "source": [
        "modelo = keras.Sequential([\n",
        "    keras.layers.Flatten(input_shape= (28,28)), \n",
        "    keras.layers.Dense(256, activation= 'relu'), \n",
        "    keras.layers.Dense(10, activation= 'softmax') \n",
        "])\n",
        "\n",
        "modelo.compile(\n",
        "    optimizer= 'adam',\n",
        "    loss= 'sparse_categorical_crossentropy',\n",
        "    metrics = ['accuracy']\n",
        "    )\n",
        "\n",
        "# gravando resultado\n",
        "historico = modelo.fit(imagens_treino, identificacoes_treino,\n",
        "           epochs = 10, # realizar o treino 5 vezes\n",
        "           validation_split = 0.2 # dados das perda e da acurracia validados\n",
        "           )"
      ],
      "metadata": {
        "colab": {
          "base_uri": "https://localhost:8080/"
        },
        "id": "TOfHNL7QYDnN",
        "outputId": "36bc3ba3-8879-452b-b1c9-df5e351e726d"
      },
      "execution_count": 75,
      "outputs": [
        {
          "output_type": "stream",
          "name": "stdout",
          "text": [
            "Epoch 1/10\n",
            "1500/1500 [==============================] - 8s 5ms/step - loss: 4.2359 - accuracy: 0.7417 - val_loss: 0.6907 - val_accuracy: 0.7752\n",
            "Epoch 2/10\n",
            "1500/1500 [==============================] - 7s 4ms/step - loss: 0.5958 - accuracy: 0.8026 - val_loss: 0.6130 - val_accuracy: 0.7991\n",
            "Epoch 3/10\n",
            "1500/1500 [==============================] - 7s 4ms/step - loss: 0.5274 - accuracy: 0.8221 - val_loss: 0.5720 - val_accuracy: 0.8160\n",
            "Epoch 4/10\n",
            "1500/1500 [==============================] - 7s 5ms/step - loss: 0.5017 - accuracy: 0.8307 - val_loss: 0.5207 - val_accuracy: 0.8343\n",
            "Epoch 5/10\n",
            "1500/1500 [==============================] - 7s 5ms/step - loss: 0.4978 - accuracy: 0.8335 - val_loss: 0.4886 - val_accuracy: 0.8389\n",
            "Epoch 6/10\n",
            "1500/1500 [==============================] - 7s 5ms/step - loss: 0.4717 - accuracy: 0.8420 - val_loss: 0.4921 - val_accuracy: 0.8357\n",
            "Epoch 7/10\n",
            "1500/1500 [==============================] - 6s 4ms/step - loss: 0.4690 - accuracy: 0.8421 - val_loss: 0.4820 - val_accuracy: 0.8387\n",
            "Epoch 8/10\n",
            "1500/1500 [==============================] - 6s 4ms/step - loss: 0.4481 - accuracy: 0.8484 - val_loss: 0.4597 - val_accuracy: 0.8437\n",
            "Epoch 9/10\n",
            "1500/1500 [==============================] - 7s 4ms/step - loss: 0.4498 - accuracy: 0.8501 - val_loss: 0.4870 - val_accuracy: 0.8464\n",
            "Epoch 10/10\n",
            "1500/1500 [==============================] - 7s 4ms/step - loss: 0.4507 - accuracy: 0.8485 - val_loss: 0.4522 - val_accuracy: 0.8535\n"
          ]
        }
      ]
    },
    {
      "cell_type": "code",
      "source": [
        "modelo = keras.Sequential([\n",
        "    keras.layers.Flatten(input_shape= (28,28)), \n",
        "    keras.layers.Dense(256, activation= 'relu'),\n",
        "    keras.layers.Dropout(0.2), # 20% das unidades adormecidos\n",
        "    keras.layers.Dense(10, activation= 'softmax') \n",
        "])\n",
        "\n",
        "modelo.compile(\n",
        "    optimizer= 'adam',\n",
        "    loss= 'sparse_categorical_crossentropy',\n",
        "    metrics = ['accuracy']\n",
        "    )\n",
        "\n",
        "# gravando resultado\n",
        "historico = modelo.fit(imagens_treino, identificacoes_treino,\n",
        "           epochs = 5, # realizar o treino 5 vezes\n",
        "           validation_split = 0.2 # dados das perda e da acurácia validados\n",
        "           )"
      ],
      "metadata": {
        "colab": {
          "base_uri": "https://localhost:8080/"
        },
        "id": "Mg-xUk8DPdeX",
        "outputId": "6e0548a0-4220-479c-b7aa-167a4f2f8f99"
      },
      "execution_count": 83,
      "outputs": [
        {
          "output_type": "stream",
          "name": "stdout",
          "text": [
            "Epoch 1/5\n",
            "1500/1500 [==============================] - 8s 5ms/step - loss: 3.6180 - accuracy: 0.6526 - val_loss: 0.7243 - val_accuracy: 0.7218\n",
            "Epoch 2/5\n",
            "1500/1500 [==============================] - 9s 6ms/step - loss: 0.8341 - accuracy: 0.6923 - val_loss: 0.6266 - val_accuracy: 0.7773\n",
            "Epoch 3/5\n",
            "1500/1500 [==============================] - 8s 5ms/step - loss: 0.7690 - accuracy: 0.7195 - val_loss: 0.6433 - val_accuracy: 0.7916\n",
            "Epoch 4/5\n",
            "1500/1500 [==============================] - 7s 5ms/step - loss: 0.7467 - accuracy: 0.7379 - val_loss: 0.6026 - val_accuracy: 0.7846\n",
            "Epoch 5/5\n",
            "1500/1500 [==============================] - 8s 5ms/step - loss: 0.7340 - accuracy: 0.7453 - val_loss: 0.6391 - val_accuracy: 0.7607\n"
          ]
        }
      ]
    },
    {
      "cell_type": "code",
      "source": [
        "from tensorflow.keras.models import load_model\n",
        "\n",
        "modelo.save('modelo.h5')\n",
        "modelo_salvo = load_model('modelo.h5')"
      ],
      "metadata": {
        "id": "5PsMIetwjP9J"
      },
      "execution_count": 88,
      "outputs": []
    },
    {
      "cell_type": "code",
      "source": [
        "historico.history"
      ],
      "metadata": {
        "colab": {
          "base_uri": "https://localhost:8080/"
        },
        "id": "FLttx5yoUzYa",
        "outputId": "5d986084-0a55-4d4a-805b-4cfb548d9adf"
      },
      "execution_count": 80,
      "outputs": [
        {
          "output_type": "execute_result",
          "data": {
            "text/plain": [
              "{'loss': [4.282447338104248,\n",
              "  0.5859233140945435,\n",
              "  0.5273362398147583,\n",
              "  0.5066397786140442,\n",
              "  0.4951111376285553],\n",
              " 'accuracy': [0.7173125147819519,\n",
              "  0.8004375100135803,\n",
              "  0.8210625052452087,\n",
              "  0.8274999856948853,\n",
              "  0.832979142665863],\n",
              " 'val_loss': [0.7282313704490662,\n",
              "  0.5249987244606018,\n",
              "  0.5365433692932129,\n",
              "  0.5226967930793762,\n",
              "  0.5152546167373657],\n",
              " 'val_accuracy': [0.7669166922569275,\n",
              "  0.8240833282470703,\n",
              "  0.8293333053588867,\n",
              "  0.8301666378974915,\n",
              "  0.8364999890327454]}"
            ]
          },
          "metadata": {},
          "execution_count": 80
        }
      ]
    },
    {
      "cell_type": "code",
      "source": [
        "# plots dados do hitorico\n",
        "plt.plot(historico.history['accuracy'])\n",
        "plt.plot(historico.history['val_accuracy'])\n",
        "\n",
        "#informações extras\n",
        "plt.title('Acurácia por épocas')\n",
        "plt.xlabel('epocas')\n",
        "plt.ylabel('acurácia')\n",
        "plt.legend(['treino', 'validação'])"
      ],
      "metadata": {
        "colab": {
          "base_uri": "https://localhost:8080/",
          "height": 312
        },
        "id": "Pxg68Uh0VAXw",
        "outputId": "1e618a59-7392-4cff-f598-82be1c21f3b0"
      },
      "execution_count": 84,
      "outputs": [
        {
          "output_type": "execute_result",
          "data": {
            "text/plain": [
              "<matplotlib.legend.Legend at 0x7f5344cf1950>"
            ]
          },
          "metadata": {},
          "execution_count": 84
        },
        {
          "output_type": "display_data",
          "data": {
            "text/plain": [
              "<Figure size 432x288 with 1 Axes>"
            ],
            "image/png": "[encoded data removed]"
          },
          "metadata": {
            "needs_background": "light"
          }
        }
      ]
    },
    {
      "cell_type": "code",
      "source": [
        "# plots dados do hitorico\n",
        "plt.plot(historico.history['loss'])\n",
        "plt.plot(historico.history['val_loss'])\n",
        "\n",
        "#informações extras\n",
        "plt.title('Perdas por épocas')\n",
        "plt.xlabel('epocas')\n",
        "plt.ylabel('perdas')\n",
        "plt.legend(['treino', 'validação'])"
      ],
      "metadata": {
        "colab": {
          "base_uri": "https://localhost:8080/",
          "height": 312
        },
        "id": "Hws3SOVYUm_Z",
        "outputId": "09f3895b-ef4a-4b77-f6d0-0862cbd5d11c"
      },
      "execution_count": 85,
      "outputs": [
        {
          "output_type": "execute_result",
          "data": {
            "text/plain": [
              "<matplotlib.legend.Legend at 0x7f534579d450>"
            ]
          },
          "metadata": {},
          "execution_count": 85
        },
        {
          "output_type": "display_data",
          "data": {
            "text/plain": [
              "<Figure size 432x288 with 1 Axes>"
            ],
            "image/png": "[encoded data removed]"
          },
          "metadata": {
            "needs_background": "light"
          }
        }
      ]
    },
    {
      "cell_type": "markdown",
      "source": [
        "## Realizando Predict"
      ],
      "metadata": {
        "id": "50nCIs1-y2sE"
      }
    },
    {
      "cell_type": "code",
      "source": [
        "testes = modelo.predict(imagens_teste)\n",
        "print(f'Resultado teste {np.argmax(testes[0])}')\n",
        "print(f'número da imagem de teste {identificacoes_teste[0]}')\n",
        "\n",
        "testes_modelo_salvo = modelo_salvo.predict(imagens_teste)\n",
        "print(f'Resultado teste modelo salvo {np.argmax(testes_modelo_salvo[0])}')\n",
        "print(f'Número da imagem de teste modelo salvo {identificacoes_teste[0]}')"
      ],
      "metadata": {
        "id": "Akie0VVeyGLk",
        "colab": {
          "base_uri": "https://localhost:8080/"
        },
        "outputId": "3268bb9c-e9b9-4cab-caa0-27b6a200dae8"
      },
      "execution_count": 89,
      "outputs": [
        {
          "output_type": "stream",
          "name": "stdout",
          "text": [
            "313/313 [==============================] - 1s 2ms/step\n",
            "Resultado teste 9\n",
            "número da imagem de teste 9\n",
            "313/313 [==============================] - 1s 2ms/step\n",
            "Resultado teste modelo salvo 9\n",
            "Número da imagem de teste modelo salvo 9\n"
          ]
        }
      ]
    },
    {
      "cell_type": "code",
      "source": [
        "testes = modelo.predict(imagens_teste)\n",
        "print(f'Resultado teste {np.argmax(testes[2])}')\n",
        "print(f'número da imagem de teste {identificacoes_teste[2]}')\n",
        "\n",
        "testes_modelo_salvo = modelo_salvo.predict(imagens_teste)\n",
        "print(f'Resultado teste modelo salvo {np.argmax(testes_modelo_salvo[2])}')\n",
        "print(f'Número da imagem de teste modelo salvo {identificacoes_teste[2]}')"
      ],
      "metadata": {
        "colab": {
          "base_uri": "https://localhost:8080/"
        },
        "id": "QuIkdudWJ-FH",
        "outputId": "b17dcec0-e75f-4ba8-cf74-30ad726b4a81"
      },
      "execution_count": 90,
      "outputs": [
        {
          "output_type": "stream",
          "name": "stdout",
          "text": [
            "313/313 [==============================] - 1s 3ms/step\n",
            "Resultado teste 1\n",
            "número da imagem de teste 1\n",
            "313/313 [==============================] - 1s 2ms/step\n",
            "Resultado teste modelo salvo 1\n",
            "Número da imagem de teste modelo salvo 1\n"
          ]
        }
      ]
    },
    {
      "cell_type": "code",
      "source": [
        "testes = modelo.predict(imagens_teste)\n",
        "print(f'Resultado teste {np.argmax(testes[4])}')\n",
        "print(f'número da imagem de teste {identificacoes_teste[4]}')\n",
        "\n",
        "testes_modelo_salvo = modelo_salvo.predict(imagens_teste)\n",
        "print(f'Resultado teste modelo salvo {np.argmax(testes_modelo_salvo[4])}')\n",
        "print(f'Número da imagem de teste modelo salvo {identificacoes_teste[4]}')"
      ],
      "metadata": {
        "colab": {
          "base_uri": "https://localhost:8080/"
        },
        "id": "_sYd7ntcK6lX",
        "outputId": "680cf0e0-cf80-4a49-ea46-a5c3c41365c6"
      },
      "execution_count": 91,
      "outputs": [
        {
          "output_type": "stream",
          "name": "stdout",
          "text": [
            "313/313 [==============================] - 1s 3ms/step\n",
            "Resultado teste 6\n",
            "número da imagem de teste 6\n",
            "313/313 [==============================] - 1s 2ms/step\n",
            "Resultado teste modelo salvo 6\n",
            "Número da imagem de teste modelo salvo 6\n"
          ]
        }
      ]
    },
    {
      "cell_type": "code",
      "source": [
        "perda_teste, acuracia_teste = modelo.evaluate(imagens_teste, identificacoes_teste)\n",
        "print(f'Perda do teste {perda_teste}')\n",
        "print(f'Ácuracia do teste {acuracia_teste}')"
      ],
      "metadata": {
        "colab": {
          "base_uri": "https://localhost:8080/"
        },
        "id": "ATIfQ4sgK7Lu",
        "outputId": "03d3abf3-08f4-4f91-8e6b-2337f3b18166"
      },
      "execution_count": 71,
      "outputs": [
        {
          "output_type": "stream",
          "name": "stdout",
          "text": [
            "313/313 [==============================] - 1s 3ms/step - loss: 0.5548 - accuracy: 0.8061\n",
            "Perda do teste 0.5548422932624817\n",
            "Ácuracia do teste 0.8061000108718872\n"
          ]
        }
      ]
    },
    {
      "cell_type": "markdown",
      "source": [
        "## Underfitting e Overfitting"
      ],
      "metadata": {
        "id": "mYSJX5M8XUTF"
      }
    },
    {
      "cell_type": "code",
      "source": [],
      "metadata": {
        "id": "KW5dc_w2LA93"
      },
      "execution_count": null,
      "outputs": []
    }
  ]
}